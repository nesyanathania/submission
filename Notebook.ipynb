{
  "cells": [
    {
      "cell_type": "markdown",
      "metadata": {
        "id": "H9wADwK78DCz"
      },
      "source": [
        "# Proyek Analisis Data: E-Commerce Public Dataset\n",
        "- **Nama:** Nesya Nathania Putri\n",
        "- **Email:** M200B4KX3322@bangkit.academy\n",
        "- **ID Dicoding:** nesya_nathania_putri"
      ]
    },
    {
      "cell_type": "markdown",
      "metadata": {
        "id": "eE0raob58DC0"
      },
      "source": [
        "## Menentukan Pertanyaan Bisnis"
      ]
    },
    {
      "cell_type": "markdown",
      "metadata": {
        "id": "GmQeQ5YF8DC0"
      },
      "source": [
        "- Pertanyaan 1: Apakah ada korelasi antara jumlah foto produk dan rating ulasan?\n",
        "- Pertanyaan 2: Produk kategori mana yang paling banyak terjual dan menghasilkan pendapatan tertinggi?"
      ]
    },
    {
      "cell_type": "markdown",
      "metadata": {
        "id": "H-z4QGlO8DC1"
      },
      "source": [
        "## Import Semua Packages/Library yang Digunakan"
      ]
    },
    {
      "cell_type": "code",
      "execution_count": null,
      "metadata": {
        "id": "FVYwaObI8DC1"
      },
      "outputs": [],
      "source": [
        "import pandas as pd\n",
        "import numpy as np\n",
        "import matplotlib.pyplot as plt\n",
        "import seaborn as sns\n",
        "from scipy import stats\n",
        "from scipy.stats import spearmanr"
      ]
    },
    {
      "cell_type": "markdown",
      "metadata": {
        "id": "h_Sh51Xy8DC1"
      },
      "source": [
        "## Data Wrangling"
      ]
    },
    {
      "cell_type": "markdown",
      "metadata": {
        "id": "sXU2GBYu8DC1"
      },
      "source": [
        "### Gathering Data"
      ]
    },
    {
      "cell_type": "code",
      "execution_count": null,
      "metadata": {
        "id": "zjCBk1BI8DC1",
        "colab": {
          "base_uri": "https://localhost:8080/"
        },
        "outputId": "1776220e-8cc5-42ce-97fe-0b9af8509bc9"
      },
      "outputs": [
        {
          "output_type": "stream",
          "name": "stdout",
          "text": [
            "                           order_id                        product_id  \\\n",
            "0  00010242fe8c5a6d1ba2dd792cb16214  4244733e06e7ecb4970a6e2683c13e61   \n",
            "1  130898c0987d1801452a8ed92a670612  4244733e06e7ecb4970a6e2683c13e61   \n",
            "2  532ed5e14e24ae1f0d735b91524b98b9  4244733e06e7ecb4970a6e2683c13e61   \n",
            "3  6f8c31653edb8c83e1a739408b5ff750  4244733e06e7ecb4970a6e2683c13e61   \n",
            "4  7d19f4ef4d04461989632411b7e588b9  4244733e06e7ecb4970a6e2683c13e61   \n",
            "\n",
            "   product_photos_qty  review_score  \n",
            "0                 4.0             5  \n",
            "1                 4.0             5  \n",
            "2                 4.0             4  \n",
            "3                 4.0             5  \n",
            "4                 4.0             5  \n"
          ]
        }
      ],
      "source": [
        "products_df = pd.read_csv('products_dataset.csv')\n",
        "order_items_df = pd.read_csv('order_items_dataset.csv')\n",
        "reviews_df = pd.read_csv('order_reviews_dataset.csv')\n",
        "\n",
        "# Gabungkan order_items dengan products berdasarkan 'product_id'\n",
        "merged_df = pd.merge(order_items_df[['order_id', 'product_id']],\n",
        "                     products_df[['product_id', 'product_photos_qty']],\n",
        "                     on='product_id', how='inner')\n",
        "# Gabungkan hasil di atas dengan reviews berdasarkan 'order_id'\n",
        "data1_df = pd.merge(merged_df,\n",
        "                    reviews_df[['order_id', 'review_score']],\n",
        "                    on='order_id', how='inner')\n",
        "print(data1_df.head())"
      ]
    },
    {
      "cell_type": "code",
      "source": [
        "order_items_df = pd.read_csv('order_items_dataset.csv')\n",
        "products_df = pd.read_csv('products_dataset.csv')\n",
        "\n",
        "# Menggabungkan order_items_dataset dengan products_dataset berdasarkan 'product_id'\n",
        "merged_data = pd.merge(order_items_df, products_df, on='product_id', how='inner')\n",
        "\n",
        "data2_df = merged_data[['order_id', 'product_category_name', 'price']]\n",
        "# Menampilkan data yang telah digabungkan\n",
        "print(data2_df.head())"
      ],
      "metadata": {
        "colab": {
          "base_uri": "https://localhost:8080/"
        },
        "id": "-qEvODdUr3ZI",
        "outputId": "0cbcb57a-d6dd-4c47-b65f-a64e94af7498"
      },
      "execution_count": null,
      "outputs": [
        {
          "output_type": "stream",
          "name": "stdout",
          "text": [
            "                           order_id product_category_name  price\n",
            "0  00010242fe8c5a6d1ba2dd792cb16214            cool_stuff   58.9\n",
            "1  130898c0987d1801452a8ed92a670612            cool_stuff   55.9\n",
            "2  532ed5e14e24ae1f0d735b91524b98b9            cool_stuff   64.9\n",
            "3  6f8c31653edb8c83e1a739408b5ff750            cool_stuff   58.9\n",
            "4  7d19f4ef4d04461989632411b7e588b9            cool_stuff   58.9\n"
          ]
        }
      ]
    },
    {
      "cell_type": "markdown",
      "source": [
        "**Insight:**\n",
        "- menyiapkan data untuk menganalisis korelasi antara jumlah foto produk dan rating ulasan. Data yang digunakan yaitu product_dataset (kolom product_id, product_photos_qty), order_items_dataset (kolom product_id, order_id), dan order_reviews_dataset (kolom order_id, review_score). Dari tiga dataset tersebut dibuat menjadi satu dataframe baru yaitu data1_df.\n",
        "- menyiapkan data untuk menganalisis kategori produk yang paling banyak terjual dan menghasilkan pendapatan tertinggi. Data yang digunakan yaitu order_items_dataset (kolom order_id, price), products_dataset (kolom product_category_name). Dari dua dataset tersebut dibuat menjadi satu dataframe baru yaitu data2_df."
      ],
      "metadata": {
        "id": "MMi6xGaDkbCi"
      }
    },
    {
      "cell_type": "markdown",
      "metadata": {
        "id": "FHSiqaZp8DC1"
      },
      "source": [
        "### Assessing Data"
      ]
    },
    {
      "cell_type": "code",
      "source": [
        "data1_df.info()"
      ],
      "metadata": {
        "colab": {
          "base_uri": "https://localhost:8080/"
        },
        "id": "YyS6YM1qX8dd",
        "outputId": "da83a0a1-179f-4307-c8ed-8832ccb9c19f"
      },
      "execution_count": null,
      "outputs": [
        {
          "output_type": "stream",
          "name": "stdout",
          "text": [
            "<class 'pandas.core.frame.DataFrame'>\n",
            "RangeIndex: 112372 entries, 0 to 112371\n",
            "Data columns (total 4 columns):\n",
            " #   Column              Non-Null Count   Dtype  \n",
            "---  ------              --------------   -----  \n",
            " 0   order_id            112372 non-null  object \n",
            " 1   product_id          112372 non-null  object \n",
            " 2   product_photos_qty  110774 non-null  float64\n",
            " 3   review_score        112372 non-null  int64  \n",
            "dtypes: float64(1), int64(1), object(2)\n",
            "memory usage: 3.4+ MB\n"
          ]
        }
      ]
    },
    {
      "cell_type": "markdown",
      "source": [
        "**Insight:**\n",
        "- Kolom order_id, product_id, dan review_score memiliki data yang lengkap tanpa missing value.\n",
        "- Terdapat missing value pada kolom product_photos_qty\n",
        "- Kolom product_photos_qty bertipe float64 yang memungkinkan angka desimal. Akan diubah menjadi integer karena jumlah foto seharusnya berupa angka bulat."
      ],
      "metadata": {
        "id": "sls4dEJjaRaF"
      }
    },
    {
      "cell_type": "code",
      "source": [
        "data2_df.info()"
      ],
      "metadata": {
        "colab": {
          "base_uri": "https://localhost:8080/"
        },
        "id": "ijazed70I0hm",
        "outputId": "c0006eae-4ed4-4738-ddae-4795799b80c3"
      },
      "execution_count": null,
      "outputs": [
        {
          "output_type": "stream",
          "name": "stdout",
          "text": [
            "<class 'pandas.core.frame.DataFrame'>\n",
            "RangeIndex: 112650 entries, 0 to 112649\n",
            "Data columns (total 3 columns):\n",
            " #   Column                 Non-Null Count   Dtype  \n",
            "---  ------                 --------------   -----  \n",
            " 0   order_id               112650 non-null  object \n",
            " 1   product_category_name  111047 non-null  object \n",
            " 2   price                  112650 non-null  float64\n",
            "dtypes: float64(1), object(2)\n",
            "memory usage: 2.6+ MB\n"
          ]
        }
      ]
    },
    {
      "cell_type": "markdown",
      "source": [
        "**Insight:**\n",
        "- Kolom order_id dan price memiliki data yang lengkap tanpa missing value.\n",
        "- Terdapat missng value sebanyak 1603 data pada kolom product_category_name.\n",
        "- Tipe data pada setiap kolom sudah sesuai."
      ],
      "metadata": {
        "id": "IRQ24Kb1J5ua"
      }
    },
    {
      "cell_type": "markdown",
      "source": [
        "### Cleaning Data"
      ],
      "metadata": {
        "id": "uPqorckgZeoJ"
      }
    },
    {
      "cell_type": "markdown",
      "source": [
        "#### Data Pertanyaan 1"
      ],
      "metadata": {
        "id": "nomNuXHIZqz9"
      }
    },
    {
      "cell_type": "code",
      "source": [
        "#hitung jumlah missing value di tiap kolom\n",
        "data1_df.isna().sum()"
      ],
      "metadata": {
        "id": "ax-3tEjc9Cj1",
        "colab": {
          "base_uri": "https://localhost:8080/",
          "height": 209
        },
        "outputId": "c326f91f-45ee-4676-f6a7-8dce4ee159cb"
      },
      "execution_count": null,
      "outputs": [
        {
          "output_type": "execute_result",
          "data": {
            "text/plain": [
              "order_id                 0\n",
              "product_id               0\n",
              "product_photos_qty    1598\n",
              "review_score             0\n",
              "dtype: int64"
            ],
            "text/html": [
              "<div>\n",
              "<style scoped>\n",
              "    .dataframe tbody tr th:only-of-type {\n",
              "        vertical-align: middle;\n",
              "    }\n",
              "\n",
              "    .dataframe tbody tr th {\n",
              "        vertical-align: top;\n",
              "    }\n",
              "\n",
              "    .dataframe thead th {\n",
              "        text-align: right;\n",
              "    }\n",
              "</style>\n",
              "<table border=\"1\" class=\"dataframe\">\n",
              "  <thead>\n",
              "    <tr style=\"text-align: right;\">\n",
              "      <th></th>\n",
              "      <th>0</th>\n",
              "    </tr>\n",
              "  </thead>\n",
              "  <tbody>\n",
              "    <tr>\n",
              "      <th>order_id</th>\n",
              "      <td>0</td>\n",
              "    </tr>\n",
              "    <tr>\n",
              "      <th>product_id</th>\n",
              "      <td>0</td>\n",
              "    </tr>\n",
              "    <tr>\n",
              "      <th>product_photos_qty</th>\n",
              "      <td>1598</td>\n",
              "    </tr>\n",
              "    <tr>\n",
              "      <th>review_score</th>\n",
              "      <td>0</td>\n",
              "    </tr>\n",
              "  </tbody>\n",
              "</table>\n",
              "</div><br><label><b>dtype:</b> int64</label>"
            ]
          },
          "metadata": {},
          "execution_count": 7
        }
      ]
    },
    {
      "cell_type": "markdown",
      "source": [
        "**Insight:**\n",
        "- terdapat 1598 dari 112372 data yang merupakan missing value pada kolom product_photos_qty. Oleh karena jumlah data yang hilang cukup kecil (1598 dari 112372 = sekitar 1.42%), maka mempertimbangkan untuk menghapus baris-baris tersebut agar mnghindari potensi bias dari data yang diisi secara artifisial."
      ],
      "metadata": {
        "id": "7dtxhAPrkhPL"
      }
    },
    {
      "cell_type": "code",
      "source": [
        "# Hapus baris yang merupakan missing value pada kolom product_photos_type\n",
        "data1_df.dropna(subset=['product_photos_qty'], inplace=True)"
      ],
      "metadata": {
        "id": "rmdRWRAhYvmq"
      },
      "execution_count": null,
      "outputs": []
    },
    {
      "cell_type": "code",
      "source": [
        "# Ubah tipe data kolom 'product_photos_qty' menjadi int\n",
        "data1_df['product_photos_qty'] = data1_df['product_photos_qty'].astype(int)"
      ],
      "metadata": {
        "id": "8NO2YA6wbh13"
      },
      "execution_count": null,
      "outputs": []
    },
    {
      "cell_type": "code",
      "source": [
        "# Cek data duplikat\n",
        "print(f\"Terdapat {data1_df.duplicated().sum()} baris duplikat pada data\")"
      ],
      "metadata": {
        "colab": {
          "base_uri": "https://localhost:8080/"
        },
        "id": "5sVGpPT8b6c3",
        "outputId": "d4a599ea-8b7f-46d0-ffe1-a3f64057c33b"
      },
      "execution_count": null,
      "outputs": [
        {
          "output_type": "stream",
          "name": "stdout",
          "text": [
            "Terdapat 10371 baris duplikat pada data\n"
          ]
        }
      ]
    },
    {
      "cell_type": "code",
      "source": [
        "# Hapus data duplikat\n",
        "data1_df = data1_df.drop_duplicates().reset_index(drop=True)"
      ],
      "metadata": {
        "id": "ucEvNIntcKLg"
      },
      "execution_count": null,
      "outputs": []
    },
    {
      "cell_type": "code",
      "source": [
        "# Menghitung Q1, Q3, dan IQR untuk product_photos_qty\n",
        "Q1_photos = data1_df['product_photos_qty'].quantile(0.25)\n",
        "Q3_photos = data1_df['product_photos_qty'].quantile(0.75)\n",
        "IQR_photos = Q3_photos - Q1_photos\n",
        "lower_photos = Q1_photos - 1.5 * IQR_photos\n",
        "upper_photos = Q3_photos + 1.5 * IQR_photos\n",
        "\n",
        "# Menghitung Q1, Q3, dan IQR untuk review_score\n",
        "Q1_review = data1_df['review_score'].quantile(0.25)\n",
        "Q3_review = data1_df['review_score'].quantile(0.75)\n",
        "IQR_review = Q3_review - Q1_review\n",
        "lower_review = Q1_review - 1.5 * IQR_review\n",
        "upper_review = Q3_review + 1.5 * IQR_review\n",
        "\n",
        "# Menampilkan batas bawah dan atas\n",
        "print(f\"Batas bawah dan atas product_photos_qty: {lower_photos}, {upper_photos}\")\n",
        "print(f\"Batas bawah dan atas review_score: {lower_review}, {upper_review}\")\n",
        "\n",
        "# Melihat nilai unik pada kolom product_photos_qty\n",
        "unique_photos_qty = data1_df['product_photos_qty'].unique()\n",
        "print(\"Nilai unik pada kolom product_photos_qty:\", unique_photos_qty)\n",
        "\n",
        "# Melihat nilai unik pada kolom review_score\n",
        "unique_review_score = data1_df['review_score'].unique()\n",
        "print(\"Nilai unik pada kolom review_score:\", unique_review_score)\n",
        "\n",
        "# Cek Outlier menggunakan IQR\n",
        "def detect_outliers_iqr(df, column):\n",
        "    Q1 = df[column].quantile(0.25)\n",
        "    Q3 = df[column].quantile(0.75)\n",
        "    IQR = Q3 - Q1\n",
        "    lower_bound = Q1 - 1.5 * IQR\n",
        "    upper_bound = Q3 + 1.5 * IQR\n",
        "    outliers = df[(df[column] < lower_bound) | (df[column] > upper_bound)]\n",
        "    return outliers, lower_bound, upper_bound\n",
        "\n",
        "# Mendeteksi outlier pada kolom product_photos_qty\n",
        "outliers_photos, lower_photos, upper_photos = detect_outliers_iqr(data1_df, 'product_photos_qty')\n",
        "print(f\"Jumlah outlier di product_photos_qty: {len(outliers_photos)}\")\n",
        "\n",
        "# Mendeteksi outlier pada kolom review_score\n",
        "outliers_review, lower_review, upper_review = detect_outliers_iqr(data1_df, 'review_score')\n",
        "print(f\"Jumlah outlier di review_score: {len(outliers_review)}\")"
      ],
      "metadata": {
        "colab": {
          "base_uri": "https://localhost:8080/"
        },
        "id": "Mqv-o9dl1RJr",
        "outputId": "28455318-dc37-4f2e-fb7b-f2821ba229a8"
      },
      "execution_count": null,
      "outputs": [
        {
          "output_type": "stream",
          "name": "stdout",
          "text": [
            "Batas bawah dan atas product_photos_qty: -2.0, 6.0\n",
            "Batas bawah dan atas review_score: 2.5, 6.5\n",
            "Nilai unik pada kolom product_photos_qty: [ 4  6  2  1  3  5  7  9  8 11 10 13 15 12 18 20 17 19 14]\n",
            "Nilai unik pada kolom review_score: [5 4 1 3 2]\n",
            "Jumlah outlier di product_photos_qty: 2935\n",
            "Jumlah outlier di review_score: 14952\n"
          ]
        }
      ]
    },
    {
      "cell_type": "markdown",
      "source": [
        "**Insight:**\n",
        "- review_score merupakan skor ulasan dari pelanggan bernilai 1 hingga 5. Setiap nilai merepresentasikan tingkat kepuasan pelanggan. Menurut perhitungan IQR, nilai di bawah 2.5 dianggap outlier tetapi skor 1 dan 2 adalah nilai valid dan penting yang merepresentasikan ulasan negatif atau ketidakpuasan pelanggan sehingga tidak dilakukan penghapusan/imputasi pada data outlier review_score.\n",
        "- product_photos_qty merupakan banyaknya foto produk yang bernilai 1 hingga 20. Jumlah foto produk di atas 6 dianggap sebagai outlier tetapi beberapa produk mungkin memerlukan lebih banyak foto untuk menarik pelanggan. Untuk menganalisis korelasi antara jumlah foto dan rating ulasan, maka tidak dilakukan penghapusan/imputasi pada data outlier karena dapat menghilangkan bagian penting dari analisis."
      ],
      "metadata": {
        "id": "pSQlxgoEPE3c"
      }
    },
    {
      "cell_type": "markdown",
      "source": [
        "#### Data Pertanyaan 2"
      ],
      "metadata": {
        "id": "XCnh_bUrLei0"
      }
    },
    {
      "cell_type": "code",
      "source": [
        "#hitung jumlah missing value di tiap kolom\n",
        "data2_df.isna().sum()"
      ],
      "metadata": {
        "colab": {
          "base_uri": "https://localhost:8080/",
          "height": 178
        },
        "id": "cv80Q9Z7Lo40",
        "outputId": "a8f84ab1-8a3e-428c-af0a-9870f509727a"
      },
      "execution_count": null,
      "outputs": [
        {
          "output_type": "execute_result",
          "data": {
            "text/plain": [
              "order_id                    0\n",
              "product_category_name    1603\n",
              "price                       0\n",
              "dtype: int64"
            ],
            "text/html": [
              "<div>\n",
              "<style scoped>\n",
              "    .dataframe tbody tr th:only-of-type {\n",
              "        vertical-align: middle;\n",
              "    }\n",
              "\n",
              "    .dataframe tbody tr th {\n",
              "        vertical-align: top;\n",
              "    }\n",
              "\n",
              "    .dataframe thead th {\n",
              "        text-align: right;\n",
              "    }\n",
              "</style>\n",
              "<table border=\"1\" class=\"dataframe\">\n",
              "  <thead>\n",
              "    <tr style=\"text-align: right;\">\n",
              "      <th></th>\n",
              "      <th>0</th>\n",
              "    </tr>\n",
              "  </thead>\n",
              "  <tbody>\n",
              "    <tr>\n",
              "      <th>order_id</th>\n",
              "      <td>0</td>\n",
              "    </tr>\n",
              "    <tr>\n",
              "      <th>product_category_name</th>\n",
              "      <td>1603</td>\n",
              "    </tr>\n",
              "    <tr>\n",
              "      <th>price</th>\n",
              "      <td>0</td>\n",
              "    </tr>\n",
              "  </tbody>\n",
              "</table>\n",
              "</div><br><label><b>dtype:</b> int64</label>"
            ]
          },
          "metadata": {},
          "execution_count": 13
        }
      ]
    },
    {
      "cell_type": "markdown",
      "source": [
        "**Insight:**\n",
        "- terdapat 1603 dari 112650 data yang merupakan missing value pada kolom product_category_name. Oleh karena jumlah data yang hilang cukup kecil (1603 dari 112650 sekitar 1,42%), maka mempertimbangkan untuk menghapus baris-baris tersebut agar mnghindari potensi bias dari data yang diisi secara artifisial."
      ],
      "metadata": {
        "id": "3z5VtWxiL2XY"
      }
    },
    {
      "cell_type": "code",
      "source": [
        "# Hapus baris yang merupakan missing value pada kolom product_category_name\n",
        "data2_df.dropna(subset=['product_category_name'], inplace=True)"
      ],
      "metadata": {
        "colab": {
          "base_uri": "https://localhost:8080/"
        },
        "id": "WPjgaGicMSpU",
        "outputId": "f0c356db-9777-4efb-b0de-ae0bbef8928d"
      },
      "execution_count": null,
      "outputs": [
        {
          "output_type": "stream",
          "name": "stderr",
          "text": [
            "<ipython-input-14-7e236729ce72>:2: SettingWithCopyWarning: \n",
            "A value is trying to be set on a copy of a slice from a DataFrame\n",
            "\n",
            "See the caveats in the documentation: https://pandas.pydata.org/pandas-docs/stable/user_guide/indexing.html#returning-a-view-versus-a-copy\n",
            "  data2_df.dropna(subset=['product_category_name'], inplace=True)\n"
          ]
        }
      ]
    },
    {
      "cell_type": "code",
      "source": [
        "# Cek data duplikat\n",
        "print(f\"Terdapat {data2_df.duplicated().sum()} baris duplikat pada data\")"
      ],
      "metadata": {
        "colab": {
          "base_uri": "https://localhost:8080/"
        },
        "id": "tMgbldBANMXE",
        "outputId": "5dcad933-9ebd-4b1a-fc16-35faf7cde949"
      },
      "execution_count": null,
      "outputs": [
        {
          "output_type": "stream",
          "name": "stdout",
          "text": [
            "Terdapat 11167 baris duplikat pada data\n"
          ]
        }
      ]
    },
    {
      "cell_type": "code",
      "source": [
        "# Hapus data duplikat\n",
        "data2_df = data2_df.drop_duplicates().reset_index(drop=True)"
      ],
      "metadata": {
        "id": "w0QideO8NWIB"
      },
      "execution_count": null,
      "outputs": []
    },
    {
      "cell_type": "code",
      "source": [
        "# Menghitung Q1, Q3, dan IQR untuk price\n",
        "Q1_price = data2_df['price'].quantile(0.25)\n",
        "Q3_price = data2_df['price'].quantile(0.75)\n",
        "IQR_price = Q3_price - Q1_price\n",
        "lower_price = Q1_price - 1.5 * IQR_price\n",
        "upper_price = Q3_price + 1.5 * IQR_price\n",
        "\n",
        "# Menampilkan batas bawah dan atas\n",
        "print(f\"Batas bawah dan atas price: {lower_price}, {upper_price}\")\n",
        "\n",
        "# Cek Outlier menggunakan IQR\n",
        "def detect_outliers_iqr(df, column):\n",
        "    Q1 = df[column].quantile(0.25)\n",
        "    Q3 = df[column].quantile(0.75)\n",
        "    IQR = Q3 - Q1\n",
        "    lower_bound = Q1 - 1.5 * IQR\n",
        "    upper_bound = Q3 + 1.5 * IQR\n",
        "    outliers = df[(df[column] < lower_bound) | (df[column] > upper_bound)]\n",
        "    return outliers, lower_bound, upper_bound\n",
        "\n",
        "# Mendeteksi outlier pada kolom price\n",
        "outliers_price, lower_price, upper_price = detect_outliers_iqr(data2_df, 'price')\n",
        "print(f\"Jumlah outlier di price: {len(outliers_price)}\")\n",
        "\n",
        "# Melihat kategori produk yang merupakan outlier\n",
        "outliers_price = data2_df[(data2_df['price'] < lower_price) | (data2_df['price'] > upper_price)]\n",
        "outlier_details = outliers_price[['product_category_name', 'price']]\n",
        "outlier_summary = outlier_details.groupby('product_category_name').first().reset_index()\n",
        "print(outlier_summary)"
      ],
      "metadata": {
        "colab": {
          "base_uri": "https://localhost:8080/"
        },
        "id": "LLJOz-YsNgda",
        "outputId": "af2b526f-9ea3-4a99-bccd-c0f034c2e7af"
      },
      "execution_count": null,
      "outputs": [
        {
          "output_type": "stream",
          "name": "stdout",
          "text": [
            "Batas bawah dan atas price: -106.60000000000001, 287.8\n",
            "Jumlah outlier di price: 7622\n",
            "        product_category_name    price\n",
            "0   agro_industria_e_comercio   397.00\n",
            "1           alimentos_bebidas   699.90\n",
            "2                       artes   299.99\n",
            "3          artes_e_artesanato   289.49\n",
            "4           artigos_de_festas   398.00\n",
            "..                        ...      ...\n",
            "57    sinalizacao_e_seguranca   319.90\n",
            "58   tablets_impressao_imagem   889.99\n",
            "59                  telefonia   399.90\n",
            "60             telefonia_fixa  1680.00\n",
            "61      utilidades_domesticas   379.90\n",
            "\n",
            "[62 rows x 2 columns]\n"
          ]
        }
      ]
    },
    {
      "cell_type": "markdown",
      "source": [
        "**Insight:**\n",
        "- Menurut perhitungan IQR, produk dengan harga di atas 287.8 dianggap sebagai outlier sehingga ditemukan 7622 data outlier harga dari 61 kategori produk.Harga pada kategori tersebut dianggap wajar dan tidak disebabkan oleh kesalahan input data sehingga tidak dilakukan penghapusan atau imputasi terhadap data outlier."
      ],
      "metadata": {
        "id": "94xp6FH0XF1x"
      }
    },
    {
      "cell_type": "markdown",
      "metadata": {
        "id": "gp-Y6wU38DC1"
      },
      "source": [
        "## Exploratory Data Analysis (EDA)"
      ]
    },
    {
      "cell_type": "markdown",
      "metadata": {
        "id": "MW7WF2kr8DC1"
      },
      "source": [
        "### Explore ..."
      ]
    },
    {
      "cell_type": "code",
      "execution_count": null,
      "metadata": {
        "id": "e9CQCZjk8DC2",
        "colab": {
          "base_uri": "https://localhost:8080/"
        },
        "outputId": "396ce78b-cedf-4463-e106-aeed9fa3043c"
      },
      "outputs": [
        {
          "output_type": "stream",
          "name": "stdout",
          "text": [
            "Koefisien Korelasi Spearman: 0.01676457931908974\n",
            "Nilai p-value: 1.0818827030361331e-07\n"
          ]
        }
      ],
      "source": [
        "# Menghitung korelasi Spearman antara product_photos_qty dan review_score\n",
        "correlation, p_value = spearmanr(data1_df['product_photos_qty'], data1_df['review_score'])\n",
        "\n",
        "print(f\"Koefisien Korelasi Spearman: {correlation}\")\n",
        "print(f\"Nilai p-value: {p_value}\")"
      ]
    },
    {
      "cell_type": "code",
      "source": [
        "# Menghitung jumlah produk terjual untuk setiap kategori\n",
        "total_terjual_per_kategori = data2_df.groupby('product_category_name')['order_id'].count().reset_index()\n",
        "total_terjual_per_kategori.columns = ['product_category_name', 'total_terjual']\n",
        "\n",
        "# Menghitung total pendapatan untuk setiap kategori\n",
        "total_pendapatan_per_kategori = data2_df.groupby('product_category_name')['price'].sum().reset_index()\n",
        "total_pendapatan_per_kategori.columns = ['product_category_name', 'total_pendapatan']\n",
        "\n",
        "result_df = pd.merge(total_terjual_per_kategori, total_pendapatan_per_kategori, on='product_category_name')\n",
        "result_df = result_df.sort_values(by='total_pendapatan', ascending=False)\n",
        "print(result_df.head())"
      ],
      "metadata": {
        "colab": {
          "base_uri": "https://localhost:8080/"
        },
        "id": "2cGo6sWXY2jb",
        "outputId": "352c8f64-28af-4d43-fee8-ddd9939f953e"
      },
      "execution_count": null,
      "outputs": [
        {
          "output_type": "stream",
          "name": "stdout",
          "text": [
            "     product_category_name  total_terjual  total_pendapatan\n",
            "11            beleza_saude           8945        1205858.49\n",
            "66      relogios_presentes           5749        1183392.58\n",
            "13         cama_mesa_banho           9838         942506.74\n",
            "32           esporte_lazer           7822         926440.42\n",
            "44  informatica_acessorios           6846         801633.16\n"
          ]
        }
      ]
    },
    {
      "cell_type": "markdown",
      "source": [
        "**Insight:**\n",
        "- Dilakukan analisis korelasi Spearman karena analisis ini sesuai untuk data ordinal seperti rating ulasan yang berkisar dari 1 hingga 5, serta lebih tahan terhadap outlier dalam data jumlah foto produk. Berdasarkan hasil analisis, diperoleh koefisien sebesar 0,0168 yang mendekati nol sehingga mengindikasikan bahwa jumlah foto produk memiliki pengaruh tidak signifikan pada skor ulasan yang diberikan oleh pelanggan. Lalu nilai p-value 1.08e-07 menunjukkan bahwa terdapat hubungan antara jumlah foto produk meskipun sangat lemah.\n",
        "-  Produk kategori yang paling banyak terjual dan menghasilkan pendapatan tertinggi yaitu beleza_saude, relogios_presentes, cama_mesa_banho, esporte_lazer, dan informatica_acessorios. Meskipun kategori cama_mesa_banho memiliki jumlah produk terjual yang paling banyak, pendapatan yang dihasilkan relatif lebih rendah dibandingkan dua kategori pertama sehingga menunjukkan bahwa kategori dengan jumlah produk terjual lebih sedikit tidak selalu memiliki pendapatan yang lebih rendah."
      ],
      "metadata": {
        "id": "th_Lzl2Fkj9O"
      }
    },
    {
      "cell_type": "markdown",
      "metadata": {
        "id": "zsyZjqak8DC2"
      },
      "source": [
        "## Visualization & Explanatory Analysis"
      ]
    },
    {
      "cell_type": "markdown",
      "metadata": {
        "id": "HZxOiQ6n8DC2"
      },
      "source": [
        "### Pertanyaan 1:"
      ]
    },
    {
      "cell_type": "code",
      "execution_count": null,
      "metadata": {
        "id": "1swJUdAD8DC2",
        "colab": {
          "base_uri": "https://localhost:8080/"
        },
        "outputId": "5ee37d61-de54-458e-e7ae-70dd6dcc053c"
      },
      "outputs": [
        {
          "output_type": "display_data",
          "data": {
            "text/plain": [
              "<Figure size 2100x600 with 1 Axes>"
            ],
            "image/png": "[encoded data removed]"
          },
          "metadata": {}
        }
      ],
      "source": [
        "plt.figure(figsize=(21, 6))\n",
        "\n",
        "# Scatter plot\n",
        "sns.scatterplot(x='product_photos_qty', y='review_score', data=data1_df)\n",
        "\n",
        "# Menambahkan judul dan label\n",
        "plt.title('Korelasi antara Jumlah Foto Produk dan Rating Ulasan')\n",
        "plt.xlabel('Jumlah Foto Produk')\n",
        "plt.ylabel('Rating Ulasan')\n",
        "\n",
        "# Menampilkan plot\n",
        "plt.show()"
      ]
    },
    {
      "cell_type": "markdown",
      "metadata": {
        "id": "DgHI7CiU8DC2"
      },
      "source": [
        "### Pertanyaan 2:"
      ]
    },
    {
      "cell_type": "code",
      "source": [
        "# Menghitung total penjualan dan total pendapatan per kategori\n",
        "category_sales = data2_df.groupby('product_category_name').agg(\n",
        "    total_terjual=('order_id', 'count'),\n",
        "    total_pendapatan=('price', 'sum')\n",
        ").reset_index()\n",
        "\n",
        "# Mengambil 5 kategori dengan pendapatan tertinggi\n",
        "top5_categories = category_sales.nlargest(5, 'total_pendapatan')\n",
        "\n",
        "# Membuat figure dan dua subplot\n",
        "fig, ax1 = plt.subplots(figsize=(10, 6))\n",
        "\n",
        "# Membuat bar plot untuk total pendapatan pada 5 kategori dengan pendapatan tertinggi\n",
        "sns.barplot(x='product_category_name', y='total_pendapatan', data=top5_categories, ax=ax1, color='b', label='Total Revenue')\n",
        "\n",
        "# Menggunakan twinx untuk membuat sumbu kedua untuk total sold\n",
        "ax2 = ax1.twinx()\n",
        "sns.lineplot(x='product_category_name', y='total_terjual', data=top5_categories, ax=ax2, color='r', marker='o', label='Total Sold')\n",
        "\n",
        "# Menambah label dan judul\n",
        "ax1.set_xlabel('Product Category')\n",
        "ax1.set_ylabel('Total Pendapatan', color='b')\n",
        "ax2.set_ylabel('Total Terjual', color='r')\n",
        "plt.title('Top 5 Kategori Produk berdasarkan Total Pendapatan')\n",
        "\n",
        "# Menambahkan legenda\n",
        "ax1.legend(loc='upper left')\n",
        "ax2.legend(loc='upper right')\n",
        "\n",
        "# Menampilkan plot\n",
        "plt.xticks(rotation=45)\n",
        "plt.tight_layout()\n",
        "plt.show()\n"
      ],
      "metadata": {
        "colab": {
          "base_uri": "https://localhost:8080/"
        },
        "id": "6xOkfMxgiMCJ",
        "outputId": "304d8b9d-ee0d-48c1-ee47-7fc43d1bcea8"
      },
      "execution_count": null,
      "outputs": [
        {
          "output_type": "display_data",
          "data": {
            "text/plain": [
              "<Figure size 1000x600 with 2 Axes>"
            ],
            "image/png": "[encoded data removed]"
          },
          "metadata": {}
        }
      ]
    },
    {
      "cell_type": "markdown",
      "source": [
        "**Insight:**\n",
        "\n",
        "Pertanyaan 1: hubungan antara jumlah foto produk dan rating ulasan menunjukkan pola distribusi yang acak sehingga tidak ada tren yang jelas atau hubungan linear antara kedua variabel tersebut. Namun, rating ulasan 5 adalah yang paling dominan muncul secara konsisten dari berapa banyak foto produk yang diunggah.\n",
        "\n",
        "Pertanyaan 2:\n",
        "- Kategori \"beleza_saude\" menempati posisi pertama dalam total pendapatan dan memiliki angka penjualan yang tinggi. Ini menunjukkan bahwa kategori ini tidak hanya menghasilkan pendapatan tinggi tetapi juga memiliki volume penjualan yang signifikan.\n",
        "- Kategori \"relogios_presentes\" memiliki total pendapatan yang hampir setara dengan \"beleza_saude\" namun jumlah produk yang terjual sangat rendah. Hal ini menunjukkan bahwa produk-produk dalam kategori ini mungkin memiliki harga yang jauh lebih tinggi dibandingkan kategori lainnya, sehingga mampu menghasilkan pendapatan besar meskipun dengan volume penjualan yang lebih rendah.\n",
        "- Kategori \"cama_mesa_banho\" menempati posisi tertinggi dalam hal total penjualan tetapi total pendapatannya lebih rendah dibandingkan dua kategori sebelumnya. Ini menunjukkan bahwa meskipun kategori ini memiliki volume penjualan tinggi, harga produk per item kemungkinan lebih rendah.\n",
        "- Kategori \"esporte_lazer\" dan \"informatica_acessorios\" memiliki pola yang mirip dengan kategori sebelumnya, di mana \"esporte_lazer\" memiliki volume penjualan yang cukup besar namun dengan total pendapatan yang tidak terlalu tinggi. Sedangkan \"informatica_acessorios\" memiliki jumlah produk terjual sekitar 7000 dengan total pendapatan yang lebih rendah dari kategori lainnya, menunjukkan produk dengan harga rata-rata lebih rendah."
      ],
      "metadata": {
        "id": "_0-36BDLklRg"
      }
    },
    {
      "cell_type": "markdown",
      "metadata": {
        "id": "_WeHlCeX8DC2"
      },
      "source": [
        "## Conclusion"
      ]
    },
    {
      "cell_type": "markdown",
      "metadata": {
        "id": "ZTcyR48Y8DC2"
      },
      "source": [
        "- Conclution pertanyaan 1: Terdapat korelasi positif antara jumlah foto produk dan rating ulasan tetapi tidak signifikan. Dimana semakin banyak jumlah foto produk maka rating ulasan semakin baik.\n",
        "- Conclution pertanyaan 2: Produk kategori yang paling banyak terjual dan menghasilkan pendapatan tertinggi yaitu beleza_saude, relogios_presentes, cama_mesa_banho, esporte_lazer, dan informatica_acessorios. Meskipun kategori cama_mesa_banho memiliki jumlah produk terjual yang paling banyak, pendapatan yang dihasilkan relatif lebih rendah dibandingkan dua kategori pertama sehingga menunjukkan bahwa kategori dengan jumlah produk terjual lebih sedikit tidak selalu memiliki pendapatan yang lebih rendah."
      ]
    }
  ],
  "metadata": {
    "kernelspec": {
      "display_name": "Python 3",
      "language": "python",
      "name": "python3"
    },
    "language_info": {
      "name": "python",
      "version": "3.8.0 (tags/v3.8.0:fa919fd, Oct 14 2019, 19:21:23) [MSC v.1916 32 bit (Intel)]"
    },
    "orig_nbformat": 4,
    "vscode": {
      "interpreter": {
        "hash": "972b3bf27e332e87b5379f2791f6ef9dfc79c71018c370b0d7423235e20fe4d7"
      }
    },
    "colab": {
      "provenance": []
    }
  },
  "nbformat": 4,
  "nbformat_minor": 0
}